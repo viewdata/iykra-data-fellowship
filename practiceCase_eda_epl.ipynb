{
 "cells": [
  {
   "cell_type": "markdown",
   "id": "collected-peninsula",
   "metadata": {},
   "source": [
    "# Practice Case: Exploratory Data Analysis  \n",
    "IYKRA Data Fellowship  \n",
    "**Qadry**"
   ]
  },
  {
   "cell_type": "markdown",
   "id": "adult-thirty",
   "metadata": {},
   "source": [
    "## Setup"
   ]
  },
  {
   "cell_type": "code",
   "execution_count": 1,
   "id": "norman-russia",
   "metadata": {},
   "outputs": [],
   "source": [
    "import pandas as pd\n",
    "import statsmodels.api as sm\n",
    "from sklearn.preprocessing import MinMaxScaler\n",
    "import seaborn as sns\n",
    "\n",
    "pd.set_option('display.max_columns', None)"
   ]
  },
  {
   "cell_type": "markdown",
   "id": "emotional-interpretation",
   "metadata": {},
   "source": [
    "## Preprocessing"
   ]
  },
  {
   "cell_type": "code",
   "execution_count": 2,
   "id": "aggregate-framing",
   "metadata": {},
   "outputs": [],
   "source": [
    "# read in the data\n",
    "epl = pd.read_csv('epl_1819.csv')"
   ]
  },
  {
   "cell_type": "code",
   "execution_count": 3,
   "id": "exposed-puzzle",
   "metadata": {},
   "outputs": [
    {
     "data": {
      "text/html": [
       "<div>\n",
       "<style scoped>\n",
       "    .dataframe tbody tr th:only-of-type {\n",
       "        vertical-align: middle;\n",
       "    }\n",
       "\n",
       "    .dataframe tbody tr th {\n",
       "        vertical-align: top;\n",
       "    }\n",
       "\n",
       "    .dataframe thead th {\n",
       "        text-align: right;\n",
       "    }\n",
       "</style>\n",
       "<table border=\"1\" class=\"dataframe\">\n",
       "  <thead>\n",
       "    <tr style=\"text-align: right;\">\n",
       "      <th></th>\n",
       "      <th>Team</th>\n",
       "      <th>category</th>\n",
       "      <th>general_league_position</th>\n",
       "      <th>finance _live_games_televised</th>\n",
       "      <th>finance _tv_revenue</th>\n",
       "      <th>general_matches_played</th>\n",
       "      <th>general_won</th>\n",
       "      <th>general_draw</th>\n",
       "      <th>general_lost</th>\n",
       "      <th>attack_scored</th>\n",
       "      <th>defence_goals_conceeded</th>\n",
       "      <th>general_goal_difference</th>\n",
       "      <th>general_points</th>\n",
       "      <th>general_squad_size</th>\n",
       "      <th>general_squad_average_age</th>\n",
       "      <th>general_squad_foreigners</th>\n",
       "      <th>finance _team_market</th>\n",
       "      <th>finance _market_average</th>\n",
       "      <th>attack_passes</th>\n",
       "      <th>attack_passes_through</th>\n",
       "      <th>attack_passes_long</th>\n",
       "      <th>attack_passes_back</th>\n",
       "      <th>attack_crosses</th>\n",
       "      <th>attack_corners_taken</th>\n",
       "      <th>attack_shots</th>\n",
       "      <th>attack_shots_on_target</th>\n",
       "      <th>attack_goals_headed</th>\n",
       "      <th>attack_goals_penalty</th>\n",
       "      <th>attack_goals_box</th>\n",
       "      <th>attack_goals_outsidebox</th>\n",
       "      <th>general_card_yellow</th>\n",
       "      <th>general_card_red</th>\n",
       "      <th>attack_goals_counter</th>\n",
       "      <th>attack_goals_freekick</th>\n",
       "      <th>defence_saves</th>\n",
       "      <th>defence_blocks</th>\n",
       "      <th>defence_interceptions</th>\n",
       "      <th>defence_tackles</th>\n",
       "      <th>defence_tackles_last_man</th>\n",
       "      <th>defence_clearances</th>\n",
       "      <th>defence_clearances_headed</th>\n",
       "      <th>defence_penalty_conceeded</th>\n",
       "      <th>attack_posession</th>\n",
       "      <th>attack_pass_accuracy</th>\n",
       "    </tr>\n",
       "  </thead>\n",
       "  <tbody>\n",
       "    <tr>\n",
       "      <th>0</th>\n",
       "      <td>Manchester City</td>\n",
       "      <td>Champions League</td>\n",
       "      <td>1</td>\n",
       "      <td>26</td>\n",
       "      <td>150986355</td>\n",
       "      <td>38</td>\n",
       "      <td>32</td>\n",
       "      <td>2</td>\n",
       "      <td>4</td>\n",
       "      <td>95</td>\n",
       "      <td>23</td>\n",
       "      <td>72</td>\n",
       "      <td>98</td>\n",
       "      <td>25</td>\n",
       "      <td>27.1</td>\n",
       "      <td>20</td>\n",
       "      <td>1003200000</td>\n",
       "      <td>39987200</td>\n",
       "      <td>26,581</td>\n",
       "      <td>112</td>\n",
       "      <td>1,814</td>\n",
       "      <td>4,240</td>\n",
       "      <td>783</td>\n",
       "      <td>298</td>\n",
       "      <td>683</td>\n",
       "      <td>260</td>\n",
       "      <td>12</td>\n",
       "      <td>3</td>\n",
       "      <td>80</td>\n",
       "      <td>15</td>\n",
       "      <td>44</td>\n",
       "      <td>1</td>\n",
       "      <td>5</td>\n",
       "      <td>2</td>\n",
       "      <td>58</td>\n",
       "      <td>63</td>\n",
       "      <td>362</td>\n",
       "      <td>518</td>\n",
       "      <td>0</td>\n",
       "      <td>543</td>\n",
       "      <td>295</td>\n",
       "      <td>4</td>\n",
       "      <td>64.0</td>\n",
       "      <td>89.0</td>\n",
       "    </tr>\n",
       "    <tr>\n",
       "      <th>1</th>\n",
       "      <td>Liverpool</td>\n",
       "      <td>Champions League</td>\n",
       "      <td>2</td>\n",
       "      <td>29</td>\n",
       "      <td>152425146</td>\n",
       "      <td>38</td>\n",
       "      <td>30</td>\n",
       "      <td>7</td>\n",
       "      <td>1</td>\n",
       "      <td>89</td>\n",
       "      <td>22</td>\n",
       "      <td>67</td>\n",
       "      <td>97</td>\n",
       "      <td>24</td>\n",
       "      <td>26.8</td>\n",
       "      <td>16</td>\n",
       "      <td>836440000</td>\n",
       "      <td>34848000</td>\n",
       "      <td>23,638</td>\n",
       "      <td>98</td>\n",
       "      <td>2,250</td>\n",
       "      <td>3,416</td>\n",
       "      <td>721</td>\n",
       "      <td>249</td>\n",
       "      <td>575</td>\n",
       "      <td>226</td>\n",
       "      <td>19</td>\n",
       "      <td>7</td>\n",
       "      <td>84</td>\n",
       "      <td>5</td>\n",
       "      <td>38</td>\n",
       "      <td>2</td>\n",
       "      <td>6</td>\n",
       "      <td>1</td>\n",
       "      <td>76</td>\n",
       "      <td>78</td>\n",
       "      <td>314</td>\n",
       "      <td>610</td>\n",
       "      <td>2</td>\n",
       "      <td>639</td>\n",
       "      <td>317</td>\n",
       "      <td>1</td>\n",
       "      <td>58.8</td>\n",
       "      <td>84.4</td>\n",
       "    </tr>\n",
       "    <tr>\n",
       "      <th>2</th>\n",
       "      <td>Chelsea</td>\n",
       "      <td>Champions League Qualification</td>\n",
       "      <td>3</td>\n",
       "      <td>25</td>\n",
       "      <td>146030216</td>\n",
       "      <td>38</td>\n",
       "      <td>21</td>\n",
       "      <td>9</td>\n",
       "      <td>8</td>\n",
       "      <td>63</td>\n",
       "      <td>39</td>\n",
       "      <td>24</td>\n",
       "      <td>72</td>\n",
       "      <td>26</td>\n",
       "      <td>28.1</td>\n",
       "      <td>19</td>\n",
       "      <td>779460000</td>\n",
       "      <td>29981600</td>\n",
       "      <td>25,070</td>\n",
       "      <td>146</td>\n",
       "      <td>1,774</td>\n",
       "      <td>3,874</td>\n",
       "      <td>692</td>\n",
       "      <td>215</td>\n",
       "      <td>607</td>\n",
       "      <td>198</td>\n",
       "      <td>8</td>\n",
       "      <td>5</td>\n",
       "      <td>54</td>\n",
       "      <td>9</td>\n",
       "      <td>49</td>\n",
       "      <td>0</td>\n",
       "      <td>1</td>\n",
       "      <td>1</td>\n",
       "      <td>85</td>\n",
       "      <td>73</td>\n",
       "      <td>351</td>\n",
       "      <td>618</td>\n",
       "      <td>2</td>\n",
       "      <td>593</td>\n",
       "      <td>330</td>\n",
       "      <td>2</td>\n",
       "      <td>59.9</td>\n",
       "      <td>87.6</td>\n",
       "    </tr>\n",
       "    <tr>\n",
       "      <th>3</th>\n",
       "      <td>Tottenham</td>\n",
       "      <td>Champions League Qualification</td>\n",
       "      <td>4</td>\n",
       "      <td>26</td>\n",
       "      <td>145230801</td>\n",
       "      <td>38</td>\n",
       "      <td>23</td>\n",
       "      <td>2</td>\n",
       "      <td>13</td>\n",
       "      <td>67</td>\n",
       "      <td>39</td>\n",
       "      <td>28</td>\n",
       "      <td>71</td>\n",
       "      <td>25</td>\n",
       "      <td>27.0</td>\n",
       "      <td>17</td>\n",
       "      <td>735240000</td>\n",
       "      <td>29409600</td>\n",
       "      <td>21,295</td>\n",
       "      <td>87</td>\n",
       "      <td>2,267</td>\n",
       "      <td>3,191</td>\n",
       "      <td>643</td>\n",
       "      <td>194</td>\n",
       "      <td>537</td>\n",
       "      <td>189</td>\n",
       "      <td>14</td>\n",
       "      <td>4</td>\n",
       "      <td>53</td>\n",
       "      <td>14</td>\n",
       "      <td>56</td>\n",
       "      <td>3</td>\n",
       "      <td>5</td>\n",
       "      <td>2</td>\n",
       "      <td>121</td>\n",
       "      <td>112</td>\n",
       "      <td>326</td>\n",
       "      <td>626</td>\n",
       "      <td>3</td>\n",
       "      <td>770</td>\n",
       "      <td>411</td>\n",
       "      <td>5</td>\n",
       "      <td>56.7</td>\n",
       "      <td>83.2</td>\n",
       "    </tr>\n",
       "    <tr>\n",
       "      <th>4</th>\n",
       "      <td>Arsenal</td>\n",
       "      <td>Europa League</td>\n",
       "      <td>5</td>\n",
       "      <td>25</td>\n",
       "      <td>142193180</td>\n",
       "      <td>38</td>\n",
       "      <td>21</td>\n",
       "      <td>7</td>\n",
       "      <td>10</td>\n",
       "      <td>73</td>\n",
       "      <td>51</td>\n",
       "      <td>22</td>\n",
       "      <td>70</td>\n",
       "      <td>26</td>\n",
       "      <td>27.5</td>\n",
       "      <td>18</td>\n",
       "      <td>701800000</td>\n",
       "      <td>26989600</td>\n",
       "      <td>20,805</td>\n",
       "      <td>65</td>\n",
       "      <td>2,062</td>\n",
       "      <td>3,102</td>\n",
       "      <td>605</td>\n",
       "      <td>209</td>\n",
       "      <td>467</td>\n",
       "      <td>170</td>\n",
       "      <td>5</td>\n",
       "      <td>4</td>\n",
       "      <td>62</td>\n",
       "      <td>11</td>\n",
       "      <td>72</td>\n",
       "      <td>2</td>\n",
       "      <td>3</td>\n",
       "      <td>3</td>\n",
       "      <td>133</td>\n",
       "      <td>118</td>\n",
       "      <td>412</td>\n",
       "      <td>609</td>\n",
       "      <td>2</td>\n",
       "      <td>762</td>\n",
       "      <td>404</td>\n",
       "      <td>7</td>\n",
       "      <td>56.1</td>\n",
       "      <td>83.3</td>\n",
       "    </tr>\n",
       "  </tbody>\n",
       "</table>\n",
       "</div>"
      ],
      "text/plain": [
       "              Team                        category  general_league_position  \\\n",
       "0  Manchester City                Champions League                        1   \n",
       "1        Liverpool                Champions League                        2   \n",
       "2          Chelsea  Champions League Qualification                        3   \n",
       "3        Tottenham  Champions League Qualification                        4   \n",
       "4          Arsenal                   Europa League                        5   \n",
       "\n",
       "   finance _live_games_televised  finance _tv_revenue  general_matches_played  \\\n",
       "0                             26            150986355                      38   \n",
       "1                             29            152425146                      38   \n",
       "2                             25            146030216                      38   \n",
       "3                             26            145230801                      38   \n",
       "4                             25            142193180                      38   \n",
       "\n",
       "   general_won  general_draw  general_lost  attack_scored  \\\n",
       "0           32             2             4             95   \n",
       "1           30             7             1             89   \n",
       "2           21             9             8             63   \n",
       "3           23             2            13             67   \n",
       "4           21             7            10             73   \n",
       "\n",
       "   defence_goals_conceeded  general_goal_difference  general_points  \\\n",
       "0                       23                       72              98   \n",
       "1                       22                       67              97   \n",
       "2                       39                       24              72   \n",
       "3                       39                       28              71   \n",
       "4                       51                       22              70   \n",
       "\n",
       "   general_squad_size  general_squad_average_age  general_squad_foreigners  \\\n",
       "0                  25                       27.1                        20   \n",
       "1                  24                       26.8                        16   \n",
       "2                  26                       28.1                        19   \n",
       "3                  25                       27.0                        17   \n",
       "4                  26                       27.5                        18   \n",
       "\n",
       "   finance _team_market  finance _market_average attack_passes  \\\n",
       "0            1003200000                 39987200        26,581   \n",
       "1             836440000                 34848000        23,638   \n",
       "2             779460000                 29981600        25,070   \n",
       "3             735240000                 29409600        21,295   \n",
       "4             701800000                 26989600        20,805   \n",
       "\n",
       "   attack_passes_through attack_passes_long attack_passes_back  \\\n",
       "0                    112              1,814              4,240   \n",
       "1                     98              2,250              3,416   \n",
       "2                    146              1,774              3,874   \n",
       "3                     87              2,267              3,191   \n",
       "4                     65              2,062              3,102   \n",
       "\n",
       "   attack_crosses  attack_corners_taken  attack_shots  attack_shots_on_target  \\\n",
       "0             783                   298           683                     260   \n",
       "1             721                   249           575                     226   \n",
       "2             692                   215           607                     198   \n",
       "3             643                   194           537                     189   \n",
       "4             605                   209           467                     170   \n",
       "\n",
       "   attack_goals_headed  attack_goals_penalty  attack_goals_box  \\\n",
       "0                   12                     3                80   \n",
       "1                   19                     7                84   \n",
       "2                    8                     5                54   \n",
       "3                   14                     4                53   \n",
       "4                    5                     4                62   \n",
       "\n",
       "   attack_goals_outsidebox  general_card_yellow  general_card_red  \\\n",
       "0                       15                   44                 1   \n",
       "1                        5                   38                 2   \n",
       "2                        9                   49                 0   \n",
       "3                       14                   56                 3   \n",
       "4                       11                   72                 2   \n",
       "\n",
       "   attack_goals_counter  attack_goals_freekick  defence_saves  defence_blocks  \\\n",
       "0                     5                      2             58              63   \n",
       "1                     6                      1             76              78   \n",
       "2                     1                      1             85              73   \n",
       "3                     5                      2            121             112   \n",
       "4                     3                      3            133             118   \n",
       "\n",
       "   defence_interceptions  defence_tackles  defence_tackles_last_man  \\\n",
       "0                    362              518                         0   \n",
       "1                    314              610                         2   \n",
       "2                    351              618                         2   \n",
       "3                    326              626                         3   \n",
       "4                    412              609                         2   \n",
       "\n",
       "  defence_clearances  defence_clearances_headed  defence_penalty_conceeded  \\\n",
       "0                543                        295                          4   \n",
       "1                639                        317                          1   \n",
       "2                593                        330                          2   \n",
       "3                770                        411                          5   \n",
       "4                762                        404                          7   \n",
       "\n",
       "   attack_posession  attack_pass_accuracy  \n",
       "0              64.0                  89.0  \n",
       "1              58.8                  84.4  \n",
       "2              59.9                  87.6  \n",
       "3              56.7                  83.2  \n",
       "4              56.1                  83.3  "
      ]
     },
     "execution_count": 3,
     "metadata": {},
     "output_type": "execute_result"
    }
   ],
   "source": [
    "epl.head()"
   ]
  },
  {
   "cell_type": "code",
   "execution_count": 4,
   "id": "quantitative-progressive",
   "metadata": {},
   "outputs": [
    {
     "data": {
      "text/plain": [
       "(20, 44)"
      ]
     },
     "execution_count": 4,
     "metadata": {},
     "output_type": "execute_result"
    }
   ],
   "source": [
    "# check the size\n",
    "epl.shape"
   ]
  },
  {
   "cell_type": "markdown",
   "id": "silent-mediterranean",
   "metadata": {},
   "source": [
    "The data comprises of 20 observations (teams) and 44 variables."
   ]
  },
  {
   "cell_type": "code",
   "execution_count": 5,
   "id": "controversial-double",
   "metadata": {},
   "outputs": [
    {
     "data": {
      "text/plain": [
       "0"
      ]
     },
     "execution_count": 5,
     "metadata": {},
     "output_type": "execute_result"
    }
   ],
   "source": [
    "epl.duplicated().sum()"
   ]
  },
  {
   "cell_type": "code",
   "execution_count": 6,
   "id": "alternate-studio",
   "metadata": {},
   "outputs": [
    {
     "data": {
      "text/plain": [
       "0"
      ]
     },
     "execution_count": 6,
     "metadata": {},
     "output_type": "execute_result"
    }
   ],
   "source": [
    "epl.duplicated(subset='Team').sum()"
   ]
  },
  {
   "cell_type": "markdown",
   "id": "communist-ethics",
   "metadata": {},
   "source": [
    "There's no duplicate values in the data."
   ]
  },
  {
   "cell_type": "code",
   "execution_count": 7,
   "id": "hawaiian-triangle",
   "metadata": {},
   "outputs": [
    {
     "name": "stdout",
     "output_type": "stream",
     "text": [
      "<class 'pandas.core.frame.DataFrame'>\n",
      "RangeIndex: 20 entries, 0 to 19\n",
      "Data columns (total 44 columns):\n",
      " #   Column                         Non-Null Count  Dtype  \n",
      "---  ------                         --------------  -----  \n",
      " 0   Team                           20 non-null     object \n",
      " 1   category                       20 non-null     object \n",
      " 2   general_league_position        20 non-null     int64  \n",
      " 3   finance _live_games_televised  20 non-null     int64  \n",
      " 4   finance _tv_revenue            20 non-null     int64  \n",
      " 5   general_matches_played         20 non-null     int64  \n",
      " 6   general_won                    20 non-null     int64  \n",
      " 7   general_draw                   20 non-null     int64  \n",
      " 8   general_lost                   20 non-null     int64  \n",
      " 9   attack_scored                  20 non-null     int64  \n",
      " 10  defence_goals_conceeded        20 non-null     int64  \n",
      " 11  general_goal_difference        20 non-null     int64  \n",
      " 12  general_points                 20 non-null     int64  \n",
      " 13  general_squad_size             20 non-null     int64  \n",
      " 14  general_squad_average_age      20 non-null     float64\n",
      " 15  general_squad_foreigners       20 non-null     int64  \n",
      " 16  finance _team_market           20 non-null     int64  \n",
      " 17  finance _market_average        20 non-null     int64  \n",
      " 18  attack_passes                  20 non-null     object \n",
      " 19  attack_passes_through          20 non-null     int64  \n",
      " 20  attack_passes_long             20 non-null     object \n",
      " 21  attack_passes_back             20 non-null     object \n",
      " 22  attack_crosses                 20 non-null     int64  \n",
      " 23  attack_corners_taken           20 non-null     int64  \n",
      " 24  attack_shots                   20 non-null     int64  \n",
      " 25  attack_shots_on_target         20 non-null     int64  \n",
      " 26  attack_goals_headed            20 non-null     int64  \n",
      " 27  attack_goals_penalty           20 non-null     int64  \n",
      " 28  attack_goals_box               20 non-null     int64  \n",
      " 29  attack_goals_outsidebox        20 non-null     int64  \n",
      " 30  general_card_yellow            20 non-null     int64  \n",
      " 31  general_card_red               20 non-null     int64  \n",
      " 32  attack_goals_counter           20 non-null     int64  \n",
      " 33  attack_goals_freekick          20 non-null     int64  \n",
      " 34  defence_saves                  20 non-null     int64  \n",
      " 35  defence_blocks                 20 non-null     int64  \n",
      " 36  defence_interceptions          20 non-null     int64  \n",
      " 37  defence_tackles                20 non-null     int64  \n",
      " 38  defence_tackles_last_man       20 non-null     int64  \n",
      " 39  defence_clearances             20 non-null     object \n",
      " 40  defence_clearances_headed      20 non-null     int64  \n",
      " 41  defence_penalty_conceeded      20 non-null     int64  \n",
      " 42  attack_posession               20 non-null     float64\n",
      " 43  attack_pass_accuracy           20 non-null     float64\n",
      "dtypes: float64(3), int64(35), object(6)\n",
      "memory usage: 7.0+ KB\n"
     ]
    }
   ],
   "source": [
    "# check the type for all columns\n",
    "epl.info()"
   ]
  },
  {
   "cell_type": "markdown",
   "id": "empirical-supplement",
   "metadata": {},
   "source": [
    "First of all, there's no missing value, which is nice.  \n",
    "Second, there seems to be some variables that have object dtype, meaning they're either string or mixed between numeric and non-numeric."
   ]
  },
  {
   "cell_type": "code",
   "execution_count": 8,
   "id": "needed-comfort",
   "metadata": {},
   "outputs": [
    {
     "name": "stdout",
     "output_type": "stream",
     "text": [
      "attack_passes: <class 'str'>\n",
      "attack_passes_long: <class 'str'>\n",
      "attack_passes_back: <class 'str'>\n",
      "defence_clearances: <class 'str'>\n"
     ]
    }
   ],
   "source": [
    "# check the type of the first value\n",
    "stats_object = ['attack_passes', 'attack_passes_long', 'attack_passes_back', 'defence_clearances']\n",
    "for i in stats_object:\n",
    "    data_type = type(epl.loc[0, i])\n",
    "    print(f'{i}: {data_type}')"
   ]
  },
  {
   "cell_type": "markdown",
   "id": "circular-organ",
   "metadata": {},
   "source": [
    "Their first values are all strings."
   ]
  },
  {
   "cell_type": "code",
   "execution_count": 9,
   "id": "dependent-suggestion",
   "metadata": {},
   "outputs": [
    {
     "data": {
      "text/html": [
       "<div>\n",
       "<style scoped>\n",
       "    .dataframe tbody tr th:only-of-type {\n",
       "        vertical-align: middle;\n",
       "    }\n",
       "\n",
       "    .dataframe tbody tr th {\n",
       "        vertical-align: top;\n",
       "    }\n",
       "\n",
       "    .dataframe thead th {\n",
       "        text-align: right;\n",
       "    }\n",
       "</style>\n",
       "<table border=\"1\" class=\"dataframe\">\n",
       "  <thead>\n",
       "    <tr style=\"text-align: right;\">\n",
       "      <th></th>\n",
       "      <th>attack_passes</th>\n",
       "      <th>attack_passes_long</th>\n",
       "      <th>attack_passes_back</th>\n",
       "      <th>defence_clearances</th>\n",
       "    </tr>\n",
       "  </thead>\n",
       "  <tbody>\n",
       "    <tr>\n",
       "      <th>0</th>\n",
       "      <td>26,581</td>\n",
       "      <td>1,814</td>\n",
       "      <td>4,240</td>\n",
       "      <td>543</td>\n",
       "    </tr>\n",
       "    <tr>\n",
       "      <th>1</th>\n",
       "      <td>23,638</td>\n",
       "      <td>2,250</td>\n",
       "      <td>3,416</td>\n",
       "      <td>639</td>\n",
       "    </tr>\n",
       "    <tr>\n",
       "      <th>2</th>\n",
       "      <td>25,070</td>\n",
       "      <td>1,774</td>\n",
       "      <td>3,874</td>\n",
       "      <td>593</td>\n",
       "    </tr>\n",
       "    <tr>\n",
       "      <th>3</th>\n",
       "      <td>21,295</td>\n",
       "      <td>2,267</td>\n",
       "      <td>3,191</td>\n",
       "      <td>770</td>\n",
       "    </tr>\n",
       "    <tr>\n",
       "      <th>4</th>\n",
       "      <td>20,805</td>\n",
       "      <td>2,062</td>\n",
       "      <td>3,102</td>\n",
       "      <td>762</td>\n",
       "    </tr>\n",
       "  </tbody>\n",
       "</table>\n",
       "</div>"
      ],
      "text/plain": [
       "  attack_passes attack_passes_long attack_passes_back defence_clearances\n",
       "0        26,581              1,814              4,240                543\n",
       "1        23,638              2,250              3,416                639\n",
       "2        25,070              1,774              3,874                593\n",
       "3        21,295              2,267              3,191                770\n",
       "4        20,805              2,062              3,102                762"
      ]
     },
     "execution_count": 9,
     "metadata": {},
     "output_type": "execute_result"
    }
   ],
   "source": [
    "epl[stats_object].head()"
   ]
  },
  {
   "cell_type": "markdown",
   "id": "rental-imperial",
   "metadata": {},
   "source": [
    "They were read as strings because there's a comma separated the thousands.  \n",
    "Rather than eliminating the comma and changing the type, it would be more efficient to just specify the thousands argument in read_csv function."
   ]
  },
  {
   "cell_type": "code",
   "execution_count": 10,
   "id": "labeled-negative",
   "metadata": {},
   "outputs": [],
   "source": [
    "# read in the data again with new argument\n",
    "epl = pd.read_csv('epl_1819.csv', thousands=',')"
   ]
  },
  {
   "cell_type": "markdown",
   "id": "enormous-independence",
   "metadata": {},
   "source": [
    "There are 4 variables with spaces in their name.  \n",
    "It would be better to remove the spaces."
   ]
  },
  {
   "cell_type": "code",
   "execution_count": 11,
   "id": "aggressive-gazette",
   "metadata": {},
   "outputs": [],
   "source": [
    "# remove all the spaces from the column names\n",
    "epl.columns = epl.columns.str.replace(' ', '')"
   ]
  },
  {
   "cell_type": "markdown",
   "id": "composite-malaysia",
   "metadata": {},
   "source": [
    "Well, it's safe to say that the data is rather clean now.  \n",
    "Let's move on to the analysis!"
   ]
  },
  {
   "cell_type": "markdown",
   "id": "humanitarian-college",
   "metadata": {},
   "source": [
    "## Analysis"
   ]
  },
  {
   "cell_type": "code",
   "execution_count": 12,
   "id": "large-building",
   "metadata": {},
   "outputs": [
    {
     "data": {
      "text/plain": [
       "<seaborn.axisgrid.FacetGrid at 0x210441e1760>"
      ]
     },
     "execution_count": 12,
     "metadata": {},
     "output_type": "execute_result"
    },
    {
     "data": {
      "image/png": "[encoded data removed]",
      "text/plain": [
       "<Figure size 360x360 with 1 Axes>"
      ]
     },
     "metadata": {
      "needs_background": "light"
     },
     "output_type": "display_data"
    }
   ],
   "source": [
    "sns.displot(epl['general_points'])"
   ]
  },
  {
   "cell_type": "markdown",
   "id": "automated-friday",
   "metadata": {},
   "source": [
    "The point distribution looks slightly right-skewed in the histogram.  \n",
    "But, let's confirm it by plotting the Q-Q plot."
   ]
  },
  {
   "cell_type": "code",
   "execution_count": 13,
   "id": "strong-commitment",
   "metadata": {},
   "outputs": [
    {
     "data": {
      "image/png": "[encoded data removed]",
      "text/plain": [
       "<Figure size 432x288 with 1 Axes>"
      ]
     },
     "metadata": {
      "needs_background": "light"
     },
     "output_type": "display_data"
    }
   ],
   "source": [
    "ax = sm.qqplot(epl['general_points'], fit=True, line='45')"
   ]
  },
  {
   "cell_type": "markdown",
   "id": "saving-distributor",
   "metadata": {},
   "source": [
    "The two strayed data points at the top indicates that the distribution is indeed slightly skewed to the right.  \n",
    "Now, let's check if there's any outlier."
   ]
  },
  {
   "cell_type": "code",
   "execution_count": 14,
   "id": "fifth-accommodation",
   "metadata": {},
   "outputs": [
    {
     "data": {
      "text/plain": [
       "<AxesSubplot:>"
      ]
     },
     "execution_count": 14,
     "metadata": {},
     "output_type": "execute_result"
    },
    {
     "data": {
      "image/png": "[encoded data removed]",
      "text/plain": [
       "<Figure size 432x288 with 1 Axes>"
      ]
     },
     "metadata": {
      "needs_background": "light"
     },
     "output_type": "display_data"
    }
   ],
   "source": [
    "epl['general_points'].plot.box(vert=False)"
   ]
  },
  {
   "cell_type": "markdown",
   "id": "increased-indianapolis",
   "metadata": {},
   "source": [
    "There seems to be no outlier in the team point data based on the box plot.  \n",
    "But, seeing how the top 2 teams performs, Manchester City and Liverpool, are far up ahead than the rest."
   ]
  },
  {
   "cell_type": "markdown",
   "id": "macro-carpet",
   "metadata": {},
   "source": [
    "Next, let's see who's the best attacker in EPL.  \n",
    "First, we need to compute a new variable that reflects on shots accuracy."
   ]
  },
  {
   "cell_type": "code",
   "execution_count": 15,
   "id": "aging-skiing",
   "metadata": {},
   "outputs": [],
   "source": [
    "# compute a new variable that reflects on shots accuracy\n",
    "epl['attack_shots_accuracy'] = epl['attack_shots_on_target'].div(epl['attack_shots'], axis=0)"
   ]
  },
  {
   "cell_type": "markdown",
   "id": "breeding-jackson",
   "metadata": {},
   "source": [
    "Then, we're going to select some variables that affect the team's offense and give them weights."
   ]
  },
  {
   "cell_type": "code",
   "execution_count": 16,
   "id": "modified-coach",
   "metadata": {},
   "outputs": [],
   "source": [
    "# select the attack variables that we're interested in and give them weights\n",
    "atk = ['attack_scored', 'attack_shots_accuracy', 'attack_posession', 'attack_pass_accuracy']\n",
    "atk_weight = [0.4, 0.3, 0.15, 0.15]"
   ]
  },
  {
   "cell_type": "code",
   "execution_count": 17,
   "id": "greatest-crossing",
   "metadata": {},
   "outputs": [],
   "source": [
    "# for standardizing the variables\n",
    "scaler = MinMaxScaler()"
   ]
  },
  {
   "cell_type": "code",
   "execution_count": 18,
   "id": "detected-setting",
   "metadata": {},
   "outputs": [],
   "source": [
    "# copy the team names and scale the variables\n",
    "epl_atk = epl[['Team']].copy()\n",
    "epl_atk[atk] = scaler.fit_transform(epl[atk])\n",
    "\n",
    "# compute the rating by averaging the scaled variables\n",
    "epl_atk['attack_rating'] = epl_atk.mean(axis=1)"
   ]
  },
  {
   "cell_type": "code",
   "execution_count": 19,
   "id": "forced-savage",
   "metadata": {},
   "outputs": [
    {
     "data": {
      "text/html": [
       "<div>\n",
       "<style scoped>\n",
       "    .dataframe tbody tr th:only-of-type {\n",
       "        vertical-align: middle;\n",
       "    }\n",
       "\n",
       "    .dataframe tbody tr th {\n",
       "        vertical-align: top;\n",
       "    }\n",
       "\n",
       "    .dataframe thead th {\n",
       "        text-align: right;\n",
       "    }\n",
       "</style>\n",
       "<table border=\"1\" class=\"dataframe\">\n",
       "  <thead>\n",
       "    <tr style=\"text-align: right;\">\n",
       "      <th></th>\n",
       "      <th>Team</th>\n",
       "      <th>attack_rating</th>\n",
       "    </tr>\n",
       "  </thead>\n",
       "  <tbody>\n",
       "    <tr>\n",
       "      <th>0</th>\n",
       "      <td>Manchester City</td>\n",
       "      <td>0.913863</td>\n",
       "    </tr>\n",
       "    <tr>\n",
       "      <th>1</th>\n",
       "      <td>Liverpool</td>\n",
       "      <td>0.817920</td>\n",
       "    </tr>\n",
       "    <tr>\n",
       "      <th>5</th>\n",
       "      <td>Manchester United</td>\n",
       "      <td>0.723097</td>\n",
       "    </tr>\n",
       "    <tr>\n",
       "      <th>4</th>\n",
       "      <td>Arsenal</td>\n",
       "      <td>0.671973</td>\n",
       "    </tr>\n",
       "    <tr>\n",
       "      <th>2</th>\n",
       "      <td>Chelsea</td>\n",
       "      <td>0.649497</td>\n",
       "    </tr>\n",
       "  </tbody>\n",
       "</table>\n",
       "</div>"
      ],
      "text/plain": [
       "                Team  attack_rating\n",
       "0    Manchester City       0.913863\n",
       "1          Liverpool       0.817920\n",
       "5  Manchester United       0.723097\n",
       "4            Arsenal       0.671973\n",
       "2            Chelsea       0.649497"
      ]
     },
     "execution_count": 19,
     "metadata": {},
     "output_type": "execute_result"
    }
   ],
   "source": [
    "# the best offensive team is ...\n",
    "top_atk = epl_atk.nlargest(5, 'attack_rating')[['Team', 'attack_rating']]\n",
    "top_atk"
   ]
  },
  {
   "cell_type": "code",
   "execution_count": 20,
   "id": "younger-mitchell",
   "metadata": {},
   "outputs": [
    {
     "data": {
      "text/plain": [
       "<AxesSubplot:xlabel='attack_rating', ylabel='Team'>"
      ]
     },
     "execution_count": 20,
     "metadata": {},
     "output_type": "execute_result"
    },
    {
     "data": {
      "image/png": "[encoded data removed]",
      "text/plain": [
       "<Figure size 432x288 with 1 Axes>"
      ]
     },
     "metadata": {
      "needs_background": "light"
     },
     "output_type": "display_data"
    }
   ],
   "source": [
    "attack_rating = top_atk['attack_rating']\n",
    "sns.barplot(x='attack_rating', y='Team', data=top_atk, orient='h', palette=[\"grey\" if x != max(attack_rating) else 'red' for x in attack_rating])"
   ]
  },
  {
   "cell_type": "markdown",
   "id": "suited-ethernet",
   "metadata": {},
   "source": [
    "No surprises here that the champion has the best attack in the league.  \n",
    "  \n",
    "Now, we'll be looking for the defensive side.  \n",
    "It'll be a little different because the defensive stats tend to be inflated in favor of the weaker teams.  \n",
    "We'll only be using the goals conceded stats to determine the defensive team."
   ]
  },
  {
   "cell_type": "code",
   "execution_count": 21,
   "id": "civil-currency",
   "metadata": {},
   "outputs": [
    {
     "data": {
      "text/html": [
       "<div>\n",
       "<style scoped>\n",
       "    .dataframe tbody tr th:only-of-type {\n",
       "        vertical-align: middle;\n",
       "    }\n",
       "\n",
       "    .dataframe tbody tr th {\n",
       "        vertical-align: top;\n",
       "    }\n",
       "\n",
       "    .dataframe thead th {\n",
       "        text-align: right;\n",
       "    }\n",
       "</style>\n",
       "<table border=\"1\" class=\"dataframe\">\n",
       "  <thead>\n",
       "    <tr style=\"text-align: right;\">\n",
       "      <th></th>\n",
       "      <th>Team</th>\n",
       "      <th>defence_goals_conceeded</th>\n",
       "    </tr>\n",
       "  </thead>\n",
       "  <tbody>\n",
       "    <tr>\n",
       "      <th>1</th>\n",
       "      <td>Liverpool</td>\n",
       "      <td>22</td>\n",
       "    </tr>\n",
       "    <tr>\n",
       "      <th>0</th>\n",
       "      <td>Manchester City</td>\n",
       "      <td>23</td>\n",
       "    </tr>\n",
       "    <tr>\n",
       "      <th>2</th>\n",
       "      <td>Chelsea</td>\n",
       "      <td>39</td>\n",
       "    </tr>\n",
       "    <tr>\n",
       "      <th>3</th>\n",
       "      <td>Tottenham</td>\n",
       "      <td>39</td>\n",
       "    </tr>\n",
       "    <tr>\n",
       "      <th>6</th>\n",
       "      <td>Wolverhampton</td>\n",
       "      <td>46</td>\n",
       "    </tr>\n",
       "  </tbody>\n",
       "</table>\n",
       "</div>"
      ],
      "text/plain": [
       "              Team  defence_goals_conceeded\n",
       "1        Liverpool                       22\n",
       "0  Manchester City                       23\n",
       "2          Chelsea                       39\n",
       "3        Tottenham                       39\n",
       "6    Wolverhampton                       46"
      ]
     },
     "execution_count": 21,
     "metadata": {},
     "output_type": "execute_result"
    }
   ],
   "source": [
    "# select teams that conceded goals the least\n",
    "top_def = epl.nsmallest(5, 'defence_goals_conceeded')[['Team', 'defence_goals_conceeded']]\n",
    "top_def"
   ]
  },
  {
   "cell_type": "code",
   "execution_count": 22,
   "id": "variable-nashville",
   "metadata": {},
   "outputs": [
    {
     "data": {
      "text/plain": [
       "<AxesSubplot:xlabel='defence_goals_conceeded', ylabel='Team'>"
      ]
     },
     "execution_count": 22,
     "metadata": {},
     "output_type": "execute_result"
    },
    {
     "data": {
      "image/png": "[encoded data removed]",
      "text/plain": [
       "<Figure size 432x288 with 1 Axes>"
      ]
     },
     "metadata": {
      "needs_background": "light"
     },
     "output_type": "display_data"
    }
   ],
   "source": [
    "goals_conceded = top_def['defence_goals_conceeded']\n",
    "sns.barplot(x='defence_goals_conceeded', y='Team', data=top_def, orient='h', palette=[\"grey\" if x != min(goals_conceded) else 'red' for x in goals_conceded])"
   ]
  },
  {
   "cell_type": "markdown",
   "id": "better-michael",
   "metadata": {},
   "source": [
    "Liverpool edges out Manchester City in the defensive end.  \n",
    "What's interesting is the difference between them and the rest.  \n",
    "Manchester City and Liverpool were really neck and neck this season."
   ]
  },
  {
   "cell_type": "markdown",
   "id": "changing-truck",
   "metadata": {},
   "source": [
    "To see how the teams are doing financially, I'm going to use the TV revenue and their market value as variables.  \n",
    "Since both variables have the same importance, so their weights are equal."
   ]
  },
  {
   "cell_type": "code",
   "execution_count": 23,
   "id": "hindu-league",
   "metadata": {},
   "outputs": [
    {
     "data": {
      "text/html": [
       "<div>\n",
       "<style scoped>\n",
       "    .dataframe tbody tr th:only-of-type {\n",
       "        vertical-align: middle;\n",
       "    }\n",
       "\n",
       "    .dataframe tbody tr th {\n",
       "        vertical-align: top;\n",
       "    }\n",
       "\n",
       "    .dataframe thead th {\n",
       "        text-align: right;\n",
       "    }\n",
       "</style>\n",
       "<table border=\"1\" class=\"dataframe\">\n",
       "  <thead>\n",
       "    <tr style=\"text-align: right;\">\n",
       "      <th></th>\n",
       "      <th>Team</th>\n",
       "      <th>finance_rating</th>\n",
       "    </tr>\n",
       "  </thead>\n",
       "  <tbody>\n",
       "    <tr>\n",
       "      <th>0</th>\n",
       "      <td>Manchester City</td>\n",
       "      <td>0.913863</td>\n",
       "    </tr>\n",
       "    <tr>\n",
       "      <th>1</th>\n",
       "      <td>Liverpool</td>\n",
       "      <td>0.817920</td>\n",
       "    </tr>\n",
       "    <tr>\n",
       "      <th>5</th>\n",
       "      <td>Manchester United</td>\n",
       "      <td>0.723097</td>\n",
       "    </tr>\n",
       "    <tr>\n",
       "      <th>4</th>\n",
       "      <td>Arsenal</td>\n",
       "      <td>0.671973</td>\n",
       "    </tr>\n",
       "    <tr>\n",
       "      <th>2</th>\n",
       "      <td>Chelsea</td>\n",
       "      <td>0.649497</td>\n",
       "    </tr>\n",
       "  </tbody>\n",
       "</table>\n",
       "</div>"
      ],
      "text/plain": [
       "                Team  finance_rating\n",
       "0    Manchester City        0.913863\n",
       "1          Liverpool        0.817920\n",
       "5  Manchester United        0.723097\n",
       "4            Arsenal        0.671973\n",
       "2            Chelsea        0.649497"
      ]
     },
     "execution_count": 23,
     "metadata": {},
     "output_type": "execute_result"
    }
   ],
   "source": [
    "fin = ['finance_tv_revenue', 'finance_team_market']\n",
    "epl_fin = epl[['Team']].copy()\n",
    "epl_fin[fin] = scaler.fit_transform(epl[fin])\n",
    "\n",
    "# add the scaled variables into the new dataframe\n",
    "epl_fin['finance_rating'] = epl_atk.mean(axis=1)\n",
    "\n",
    "top_fin = epl_fin.nlargest(5, 'finance_rating')[['Team', 'finance_rating']]\n",
    "top_fin"
   ]
  },
  {
   "cell_type": "code",
   "execution_count": 24,
   "id": "amber-ivory",
   "metadata": {},
   "outputs": [
    {
     "data": {
      "text/plain": [
       "<AxesSubplot:xlabel='finance_rating', ylabel='Team'>"
      ]
     },
     "execution_count": 24,
     "metadata": {},
     "output_type": "execute_result"
    },
    {
     "data": {
      "image/png": "[encoded data removed]",
      "text/plain": [
       "<Figure size 432x288 with 1 Axes>"
      ]
     },
     "metadata": {
      "needs_background": "light"
     },
     "output_type": "display_data"
    }
   ],
   "source": [
    "finance_rating = top_fin['finance_rating']\n",
    "sns.barplot(x='finance_rating', y='Team', data=top_fin, orient='h', palette=[\"grey\" if x != max(finance_rating) else 'red' for x in finance_rating])"
   ]
  },
  {
   "cell_type": "markdown",
   "id": "catholic-command",
   "metadata": {},
   "source": [
    "Manchester City is doing really well right now.  \n",
    "Liverpool, Manchester United, Arsenal, and Chelsea are not too far behind."
   ]
  },
  {
   "cell_type": "code",
   "execution_count": 25,
   "id": "perceived-northern",
   "metadata": {},
   "outputs": [
    {
     "data": {
      "text/plain": [
       "<AxesSubplot:xlabel='finance_rating', ylabel='general_points'>"
      ]
     },
     "execution_count": 25,
     "metadata": {},
     "output_type": "execute_result"
    },
    {
     "data": {
      "image/png": "[encoded data removed]",
      "text/plain": [
       "<Figure size 432x288 with 1 Axes>"
      ]
     },
     "metadata": {
      "needs_background": "light"
     },
     "output_type": "display_data"
    }
   ],
   "source": [
    "epl['finance_rating'] = epl_fin['finance_rating']\n",
    "epl.plot.scatter(x='finance_rating', y='general_points')"
   ]
  },
  {
   "cell_type": "markdown",
   "id": "considered-circus",
   "metadata": {},
   "source": [
    "Looks like money is still one of the most important aspect in a team's sucess."
   ]
  }
 ],
 "metadata": {
  "kernelspec": {
   "display_name": "Python 3",
   "language": "python",
   "name": "python3"
  },
  "language_info": {
   "codemirror_mode": {
    "name": "ipython",
    "version": 3
   },
   "file_extension": ".py",
   "mimetype": "text/x-python",
   "name": "python",
   "nbconvert_exporter": "python",
   "pygments_lexer": "ipython3",
   "version": "3.9.0"
  }
 },
 "nbformat": 4,
 "nbformat_minor": 5
}
